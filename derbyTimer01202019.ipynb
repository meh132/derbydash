{
 "cells": [
  {
   "cell_type": "code",
   "execution_count": 1,
   "metadata": {
    "collapsed": true
   },
   "outputs": [],
   "source": [
    "import pandas as pd;\n",
    "import numpy as np;\n",
    "#import serial, time \n",
    "import json"
   ]
  },
  {
   "cell_type": "code",
   "execution_count": null,
   "metadata": {
    "collapsed": true
   },
   "outputs": [],
   "source": [
    "#!pip install --upgrade pandas"
   ]
  },
  {
   "cell_type": "code",
   "execution_count": null,
   "metadata": {
    "collapsed": true
   },
   "outputs": [],
   "source": [
    "# connect to Track\n",
    "ser = serial.Serial('/dev/ttyUSB0', 9600, timeout = None)\n",
    "print(ser.name)"
   ]
  },
  {
   "cell_type": "code",
   "execution_count": null,
   "metadata": {
    "collapsed": true
   },
   "outputs": [],
   "source": [
    "# csv or excel\n",
    "# name, car number, den, category\n",
    "\n",
    "# \"Race number\" car number\" x4, \"lane\" for heats"
   ]
  },
  {
   "cell_type": "code",
   "execution_count": 2,
   "metadata": {
    "collapsed": true
   },
   "outputs": [],
   "source": [
    "# Read from CSV to load Races\n",
    "races = pd.read_csv('Races.csv')\n",
    "races = races.set_index('Race Number')\n",
    "#races.head()"
   ]
  },
  {
   "cell_type": "code",
   "execution_count": 5,
   "metadata": {},
   "outputs": [
    {
     "data": {
      "text/html": [
       "<div>\n",
       "<style scoped>\n",
       "    .dataframe tbody tr th:only-of-type {\n",
       "        vertical-align: middle;\n",
       "    }\n",
       "\n",
       "    .dataframe tbody tr th {\n",
       "        vertical-align: top;\n",
       "    }\n",
       "\n",
       "    .dataframe thead th {\n",
       "        text-align: right;\n",
       "    }\n",
       "</style>\n",
       "<table border=\"1\" class=\"dataframe\">\n",
       "  <thead>\n",
       "    <tr style=\"text-align: right;\">\n",
       "      <th></th>\n",
       "      <th>Lane 1</th>\n",
       "      <th>Lane 2</th>\n",
       "      <th>Lane 3</th>\n",
       "      <th>Lane 4</th>\n",
       "    </tr>\n",
       "    <tr>\n",
       "      <th>Race Number</th>\n",
       "      <th></th>\n",
       "      <th></th>\n",
       "      <th></th>\n",
       "      <th></th>\n",
       "    </tr>\n",
       "  </thead>\n",
       "  <tbody>\n",
       "    <tr>\n",
       "      <th>1</th>\n",
       "      <td>1</td>\n",
       "      <td>9</td>\n",
       "      <td>8</td>\n",
       "      <td>7</td>\n",
       "    </tr>\n",
       "    <tr>\n",
       "      <th>2</th>\n",
       "      <td>2</td>\n",
       "      <td>1</td>\n",
       "      <td>9</td>\n",
       "      <td>8</td>\n",
       "    </tr>\n",
       "    <tr>\n",
       "      <th>3</th>\n",
       "      <td>3</td>\n",
       "      <td>2</td>\n",
       "      <td>1</td>\n",
       "      <td>9</td>\n",
       "    </tr>\n",
       "    <tr>\n",
       "      <th>4</th>\n",
       "      <td>4</td>\n",
       "      <td>3</td>\n",
       "      <td>2</td>\n",
       "      <td>1</td>\n",
       "    </tr>\n",
       "    <tr>\n",
       "      <th>5</th>\n",
       "      <td>5</td>\n",
       "      <td>4</td>\n",
       "      <td>3</td>\n",
       "      <td>2</td>\n",
       "    </tr>\n",
       "    <tr>\n",
       "      <th>6</th>\n",
       "      <td>6</td>\n",
       "      <td>5</td>\n",
       "      <td>4</td>\n",
       "      <td>3</td>\n",
       "    </tr>\n",
       "    <tr>\n",
       "      <th>7</th>\n",
       "      <td>7</td>\n",
       "      <td>6</td>\n",
       "      <td>5</td>\n",
       "      <td>4</td>\n",
       "    </tr>\n",
       "    <tr>\n",
       "      <th>8</th>\n",
       "      <td>8</td>\n",
       "      <td>7</td>\n",
       "      <td>6</td>\n",
       "      <td>5</td>\n",
       "    </tr>\n",
       "    <tr>\n",
       "      <th>9</th>\n",
       "      <td>9</td>\n",
       "      <td>8</td>\n",
       "      <td>7</td>\n",
       "      <td>6</td>\n",
       "    </tr>\n",
       "  </tbody>\n",
       "</table>\n",
       "</div>"
      ],
      "text/plain": [
       "             Lane 1  Lane 2  Lane 3  Lane 4\n",
       "Race Number                                \n",
       "1                 1       9       8       7\n",
       "2                 2       1       9       8\n",
       "3                 3       2       1       9\n",
       "4                 4       3       2       1\n",
       "5                 5       4       3       2\n",
       "6                 6       5       4       3\n",
       "7                 7       6       5       4\n",
       "8                 8       7       6       5\n",
       "9                 9       8       7       6"
      ]
     },
     "execution_count": 5,
     "metadata": {},
     "output_type": "execute_result"
    }
   ],
   "source": [
    "#races.loc[2,'Lane 2'] = 1\n",
    "races.head(15)"
   ]
  },
  {
   "cell_type": "code",
   "execution_count": 6,
   "metadata": {},
   "outputs": [
    {
     "data": {
      "text/html": [
       "<div>\n",
       "<style scoped>\n",
       "    .dataframe tbody tr th:only-of-type {\n",
       "        vertical-align: middle;\n",
       "    }\n",
       "\n",
       "    .dataframe tbody tr th {\n",
       "        vertical-align: top;\n",
       "    }\n",
       "\n",
       "    .dataframe thead th {\n",
       "        text-align: right;\n",
       "    }\n",
       "</style>\n",
       "<table border=\"1\" class=\"dataframe\">\n",
       "  <thead>\n",
       "    <tr style=\"text-align: right;\">\n",
       "      <th></th>\n",
       "      <th>Name</th>\n",
       "      <th>Den</th>\n",
       "      <th>Category</th>\n",
       "    </tr>\n",
       "    <tr>\n",
       "      <th>Car Number</th>\n",
       "      <th></th>\n",
       "      <th></th>\n",
       "      <th></th>\n",
       "    </tr>\n",
       "  </thead>\n",
       "  <tbody>\n",
       "    <tr>\n",
       "      <th>1</th>\n",
       "      <td>Barthelmas, Aiden</td>\n",
       "      <td>2 - WOLF</td>\n",
       "      <td>Pack</td>\n",
       "    </tr>\n",
       "    <tr>\n",
       "      <th>2</th>\n",
       "      <td>Blackler, Caleb</td>\n",
       "      <td>4 - WEBLOS I</td>\n",
       "      <td>Pack</td>\n",
       "    </tr>\n",
       "    <tr>\n",
       "      <th>3</th>\n",
       "      <td>Bracken, Basil</td>\n",
       "      <td>5 - WEBLOS II</td>\n",
       "      <td>Pack</td>\n",
       "    </tr>\n",
       "    <tr>\n",
       "      <th>4</th>\n",
       "      <td>Brockenbrough, Myles</td>\n",
       "      <td>3 - BEAR</td>\n",
       "      <td>Pack</td>\n",
       "    </tr>\n",
       "    <tr>\n",
       "      <th>5</th>\n",
       "      <td>Capone, Declan</td>\n",
       "      <td>1 - TIGER</td>\n",
       "      <td>Pack</td>\n",
       "    </tr>\n",
       "  </tbody>\n",
       "</table>\n",
       "</div>"
      ],
      "text/plain": [
       "                            Name            Den Category\n",
       "Car Number                                              \n",
       "1              Barthelmas, Aiden       2 - WOLF     Pack\n",
       "2                Blackler, Caleb   4 - WEBLOS I     Pack\n",
       "3                 Bracken, Basil  5 - WEBLOS II     Pack\n",
       "4           Brockenbrough, Myles       3 - BEAR     Pack\n",
       "5                 Capone, Declan      1 - TIGER     Pack"
      ]
     },
     "execution_count": 6,
     "metadata": {},
     "output_type": "execute_result"
    }
   ],
   "source": [
    "# Read list of racers and cars from CSV\n",
    "\n",
    "racers = pd.read_csv('Racers.csv')\n",
    "racers = racers.set_index('Car Number')\n",
    "racers.head()"
   ]
  },
  {
   "cell_type": "code",
   "execution_count": 7,
   "metadata": {
    "collapsed": true
   },
   "outputs": [],
   "source": [
    "# Set Race\n",
    "current_race = 0"
   ]
  },
  {
   "cell_type": "markdown",
   "metadata": {},
   "source": [
    "# Start of the Race process"
   ]
  },
  {
   "cell_type": "code",
   "execution_count": 9,
   "metadata": {},
   "outputs": [
    {
     "data": {
      "text/html": [
       "<div>\n",
       "<style scoped>\n",
       "    .dataframe tbody tr th:only-of-type {\n",
       "        vertical-align: middle;\n",
       "    }\n",
       "\n",
       "    .dataframe tbody tr th {\n",
       "        vertical-align: top;\n",
       "    }\n",
       "\n",
       "    .dataframe thead th {\n",
       "        text-align: right;\n",
       "    }\n",
       "</style>\n",
       "<table border=\"1\" class=\"dataframe\">\n",
       "  <thead>\n",
       "    <tr style=\"text-align: right;\">\n",
       "      <th></th>\n",
       "      <th>race</th>\n",
       "      <th>lane</th>\n",
       "      <th>car</th>\n",
       "      <th>name</th>\n",
       "      <th>time</th>\n",
       "      <th>place</th>\n",
       "      <th>den</th>\n",
       "      <th>category</th>\n",
       "    </tr>\n",
       "  </thead>\n",
       "  <tbody>\n",
       "  </tbody>\n",
       "</table>\n",
       "</div>"
      ],
      "text/plain": [
       "Empty DataFrame\n",
       "Columns: [race, lane, car, name, time, place, den, category]\n",
       "Index: []"
      ]
     },
     "execution_count": 9,
     "metadata": {},
     "output_type": "execute_result"
    }
   ],
   "source": [
    "# resultsdf = pd.DataFrame(columns=[\"Race\",\"Lane\",\"Car\",\"Time\",\"Scout\",\"Den\"])\n",
    "#resultsdf = pd.DataFrame(columns=[\"Race\",\"Lane\",\"Car\",\"Time\"])\n",
    "\n",
    "resultsdf = pd.DataFrame(columns=['race', 'lane', 'car', 'name', 'time', 'place', 'den', 'category'])\n",
    "resultsdf.head()"
   ]
  },
  {
   "cell_type": "code",
   "execution_count": 10,
   "metadata": {
    "collapsed": true
   },
   "outputs": [],
   "source": [
    "# set current race if needed\n",
    "#current_race = 1"
   ]
  },
  {
   "cell_type": "code",
   "execution_count": 11,
   "metadata": {},
   "outputs": [
    {
     "name": "stdout",
     "output_type": "stream",
     "text": [
      "1\n"
     ]
    }
   ],
   "source": [
    "print(current_race)"
   ]
  },
  {
   "cell_type": "code",
   "execution_count": 12,
   "metadata": {},
   "outputs": [
    {
     "name": "stdout",
     "output_type": "stream",
     "text": [
      "Lane 1    1\n",
      "Lane 2    9\n",
      "Lane 3    8\n",
      "Lane 4    7\n",
      "Name: 1, dtype: int64\n"
     ]
    }
   ],
   "source": [
    "# show curret race\n",
    "current_contestants = races.loc[current_race]\n",
    "print(races.loc[current_race])"
   ]
  },
  {
   "cell_type": "code",
   "execution_count": 49,
   "metadata": {
    "collapsed": true
   },
   "outputs": [],
   "source": [
    "# create Race Output for Upcoming race\n",
    "# for race, build details for lane\n",
    "# get lane 1 car\n",
    "race = {}\n",
    "lane = 1\n",
    "for carNum in races.loc[current_race+1]:\n",
    "    name = racers.loc[carNum,'Name']\n",
    "    #print(lane, carNum, name)\n",
    "    details = {'car': str(carNum), 'name': name}\n",
    "    trackName = 'lane' + str(lane)\n",
    "    race[trackName] = details\n",
    "    lane = lane +1\n",
    "\n",
    "nextup = {'nextup': race}\n",
    "with open('next.json', 'w') as outfile:\n",
    "    json.dump(nextup, outfile)\n"
   ]
  },
  {
   "cell_type": "code",
   "execution_count": 13,
   "metadata": {},
   "outputs": [
    {
     "name": "stdout",
     "output_type": "stream",
     "text": [
      "Series([], Name: 1, dtype: int64)\n"
     ]
    }
   ],
   "source": [
    "new1 = current_contestants[current_contestants == 0]\n",
    "print(new1)"
   ]
  },
  {
   "cell_type": "code",
   "execution_count": null,
   "metadata": {},
   "outputs": [],
   "source": [
    "print(new1.index.values)"
   ]
  },
  {
   "cell_type": "markdown",
   "metadata": {},
   "source": [
    "## Run Race\n"
   ]
  },
  {
   "cell_type": "code",
   "execution_count": null,
   "metadata": {
    "collapsed": true
   },
   "outputs": [],
   "source": [
    "# Turn on all Lanes   om# is used to turn off track\n",
    "command = 'om0'+'\\r\\n'\n",
    "newcommand = command.encode('ascii')\n",
    "ser.write(newcommand)\n",
    "returnmessage = ser.readline()\n",
    "print(returnmessage.decode())"
   ]
  },
  {
   "cell_type": "code",
   "execution_count": null,
   "metadata": {
    "collapsed": true
   },
   "outputs": [],
   "source": [
    "# Reset Track if needed\n",
    "#Reset Track\n",
    "command = 'r'+'\\r\\n'\n",
    "newcommand = command.encode('ascii')\n",
    "ser.write(newcommand)"
   ]
  },
  {
   "cell_type": "code",
   "execution_count": null,
   "metadata": {
    "collapsed": true
   },
   "outputs": [],
   "source": [
    "# Turn off tracks that are not being used\n",
    "\n",
    "for x in (new1.index.values):\n",
    "    lanenum = (x[4:5])\n",
    "    command = 'om' + lanenum +'\\r\\n'\n",
    "    print(command)\n",
    "    #newcommand = command.encode('ascii')\n",
    "    #ser.write(newcommand)\n",
    "    #returnmessage = ser.readline()\n",
    "    #print(returnmessage.decode())"
   ]
  },
  {
   "cell_type": "code",
   "execution_count": null,
   "metadata": {
    "collapsed": true
   },
   "outputs": [],
   "source": [
    "# Get Race Results\n",
    "# get race results\n",
    "command = 'rg'+'\\r\\n'\n",
    "newcommand = command.encode('ascii')\n",
    "ser.write(newcommand)\n",
    "results = ser.readline()\n",
    "laneresults = results.decode().split()\n",
    "print(laneresults)\n"
   ]
  },
  {
   "cell_type": "code",
   "execution_count": 50,
   "metadata": {},
   "outputs": [
    {
     "name": "stdout",
     "output_type": "stream",
     "text": [
      "['1=1.1704a', '2=5.4159b', '3=3.5462c', '4=3.7246d']\n"
     ]
    }
   ],
   "source": [
    "laneresults = ['1=1.1704a', '2=5.4159b', '3=3.5462c', '4=3.7246d']\n",
    "print(laneresults)"
   ]
  },
  {
   "cell_type": "markdown",
   "metadata": {},
   "source": [
    "# Force finish race "
   ]
  },
  {
   "cell_type": "markdown",
   "metadata": {},
   "source": [
    "## Write Results to results df\n"
   ]
  },
  {
   "cell_type": "code",
   "execution_count": 51,
   "metadata": {},
   "outputs": [
    {
     "name": "stdout",
     "output_type": "stream",
     "text": [
      "{'den': '3 - BEAR', 'place': 'a', 'name': 'Brockenbrough, Myles', 'lane': 1, 'time': 1.1704, 'car': '4', 'race': 4, 'category': 'Pack'}\n",
      "{'den': '5 - WEBLOS II', 'place': 'b', 'name': 'Bracken, Basil', 'lane': 2, 'time': 5.4159, 'car': '3', 'race': 4, 'category': 'Pack'}\n",
      "{'den': '4 - WEBLOS I', 'place': 'c', 'name': 'Blackler, Caleb', 'lane': 3, 'time': 3.5462, 'car': '2', 'race': 4, 'category': 'Pack'}\n",
      "{'den': '2 - WOLF', 'place': 'd', 'name': 'Barthelmas, Aiden', 'lane': 4, 'time': 3.7246, 'car': '1', 'race': 4, 'category': 'Pack'}\n"
     ]
    }
   ],
   "source": [
    "race = {}\n",
    "for laneresult in laneresults:\n",
    "    lane = laneresult[0]\n",
    "    car = races.loc[int(current_race),'Lane '+lane]\n",
    "    time = float(laneresult[2:8])\n",
    "    name = racers.loc[car,'Name']\n",
    "    den = racers.loc[car,'Den']\n",
    "    category = racers.loc[car,'Category']\n",
    "    place = laneresult[8:9]\n",
    "    \n",
    "    # Create results json\n",
    "    details = {'race' : current_race , 'lane' : int(lane), 'car': str(car), 'name': name, 'time': time, 'place': place, 'den': den, 'category': category} \n",
    "    trackName = 'lane' + str(lane)\n",
    "    race[trackName] = details\n",
    "    \n",
    " \n",
    "    # add den, category\n",
    "    resultsdf = resultsdf.append(details, ignore_index=True)\n",
    "    print(details)\n",
    "   \n",
    "current_race = current_race +1"
   ]
  },
  {
   "cell_type": "code",
   "execution_count": 52,
   "metadata": {
    "collapsed": true
   },
   "outputs": [],
   "source": [
    "## update or rewrite Json for current race.  \n",
    "currentRace = {'currentRace': race}\n",
    "with open('current.json', 'w') as outfile:\n",
    "    json.dump(currentRace, outfile)"
   ]
  },
  {
   "cell_type": "code",
   "execution_count": 43,
   "metadata": {},
   "outputs": [
    {
     "data": {
      "text/html": [
       "<div>\n",
       "<style scoped>\n",
       "    .dataframe tbody tr th:only-of-type {\n",
       "        vertical-align: middle;\n",
       "    }\n",
       "\n",
       "    .dataframe tbody tr th {\n",
       "        vertical-align: top;\n",
       "    }\n",
       "\n",
       "    .dataframe thead th {\n",
       "        text-align: right;\n",
       "    }\n",
       "</style>\n",
       "<table border=\"1\" class=\"dataframe\">\n",
       "  <thead>\n",
       "    <tr style=\"text-align: right;\">\n",
       "      <th></th>\n",
       "      <th>race</th>\n",
       "      <th>lane</th>\n",
       "      <th>car</th>\n",
       "      <th>name</th>\n",
       "      <th>time</th>\n",
       "      <th>place</th>\n",
       "      <th>den</th>\n",
       "      <th>category</th>\n",
       "    </tr>\n",
       "  </thead>\n",
       "  <tbody>\n",
       "    <tr>\n",
       "      <th>0</th>\n",
       "      <td>1</td>\n",
       "      <td>1</td>\n",
       "      <td>1</td>\n",
       "      <td>Barthelmas, Aiden</td>\n",
       "      <td>2.1704</td>\n",
       "      <td>a</td>\n",
       "      <td>2 - WOLF</td>\n",
       "      <td>Pack</td>\n",
       "    </tr>\n",
       "    <tr>\n",
       "      <th>1</th>\n",
       "      <td>1</td>\n",
       "      <td>2</td>\n",
       "      <td>9</td>\n",
       "      <td>Edmonds, Harvey</td>\n",
       "      <td>2.4159</td>\n",
       "      <td>b</td>\n",
       "      <td>2 - WOLF</td>\n",
       "      <td>Pack</td>\n",
       "    </tr>\n",
       "    <tr>\n",
       "      <th>2</th>\n",
       "      <td>1</td>\n",
       "      <td>3</td>\n",
       "      <td>8</td>\n",
       "      <td>Donnarumma, Liam</td>\n",
       "      <td>2.5462</td>\n",
       "      <td>c</td>\n",
       "      <td>1 - TIGER</td>\n",
       "      <td>Pack</td>\n",
       "    </tr>\n",
       "    <tr>\n",
       "      <th>3</th>\n",
       "      <td>1</td>\n",
       "      <td>4</td>\n",
       "      <td>7</td>\n",
       "      <td>Debow, Anderson</td>\n",
       "      <td>2.7246</td>\n",
       "      <td>d</td>\n",
       "      <td>4 - WEBLOS I</td>\n",
       "      <td>Pack</td>\n",
       "    </tr>\n",
       "    <tr>\n",
       "      <th>4</th>\n",
       "      <td>2</td>\n",
       "      <td>1</td>\n",
       "      <td>2</td>\n",
       "      <td>Blackler, Caleb</td>\n",
       "      <td>3.1704</td>\n",
       "      <td>a</td>\n",
       "      <td>4 - WEBLOS I</td>\n",
       "      <td>Pack</td>\n",
       "    </tr>\n",
       "    <tr>\n",
       "      <th>5</th>\n",
       "      <td>2</td>\n",
       "      <td>2</td>\n",
       "      <td>1</td>\n",
       "      <td>Barthelmas, Aiden</td>\n",
       "      <td>3.4159</td>\n",
       "      <td>b</td>\n",
       "      <td>2 - WOLF</td>\n",
       "      <td>Pack</td>\n",
       "    </tr>\n",
       "    <tr>\n",
       "      <th>6</th>\n",
       "      <td>2</td>\n",
       "      <td>3</td>\n",
       "      <td>9</td>\n",
       "      <td>Edmonds, Harvey</td>\n",
       "      <td>4.5462</td>\n",
       "      <td>c</td>\n",
       "      <td>2 - WOLF</td>\n",
       "      <td>Pack</td>\n",
       "    </tr>\n",
       "    <tr>\n",
       "      <th>7</th>\n",
       "      <td>2</td>\n",
       "      <td>4</td>\n",
       "      <td>8</td>\n",
       "      <td>Donnarumma, Liam</td>\n",
       "      <td>5.7246</td>\n",
       "      <td>d</td>\n",
       "      <td>1 - TIGER</td>\n",
       "      <td>Pack</td>\n",
       "    </tr>\n",
       "    <tr>\n",
       "      <th>8</th>\n",
       "      <td>3</td>\n",
       "      <td>1</td>\n",
       "      <td>3</td>\n",
       "      <td>Bracken, Basil</td>\n",
       "      <td>1.1704</td>\n",
       "      <td>a</td>\n",
       "      <td>5 - WEBLOS II</td>\n",
       "      <td>Pack</td>\n",
       "    </tr>\n",
       "    <tr>\n",
       "      <th>9</th>\n",
       "      <td>3</td>\n",
       "      <td>2</td>\n",
       "      <td>2</td>\n",
       "      <td>Blackler, Caleb</td>\n",
       "      <td>5.4159</td>\n",
       "      <td>b</td>\n",
       "      <td>4 - WEBLOS I</td>\n",
       "      <td>Pack</td>\n",
       "    </tr>\n",
       "    <tr>\n",
       "      <th>10</th>\n",
       "      <td>3</td>\n",
       "      <td>3</td>\n",
       "      <td>1</td>\n",
       "      <td>Barthelmas, Aiden</td>\n",
       "      <td>3.5462</td>\n",
       "      <td>c</td>\n",
       "      <td>2 - WOLF</td>\n",
       "      <td>Pack</td>\n",
       "    </tr>\n",
       "    <tr>\n",
       "      <th>11</th>\n",
       "      <td>3</td>\n",
       "      <td>4</td>\n",
       "      <td>9</td>\n",
       "      <td>Edmonds, Harvey</td>\n",
       "      <td>3.7246</td>\n",
       "      <td>d</td>\n",
       "      <td>2 - WOLF</td>\n",
       "      <td>Pack</td>\n",
       "    </tr>\n",
       "  </tbody>\n",
       "</table>\n",
       "</div>"
      ],
      "text/plain": [
       "   race lane car               name    time place            den category\n",
       "0     1    1   1  Barthelmas, Aiden  2.1704     a       2 - WOLF     Pack\n",
       "1     1    2   9    Edmonds, Harvey  2.4159     b       2 - WOLF     Pack\n",
       "2     1    3   8   Donnarumma, Liam  2.5462     c      1 - TIGER     Pack\n",
       "3     1    4   7    Debow, Anderson  2.7246     d   4 - WEBLOS I     Pack\n",
       "4     2    1   2    Blackler, Caleb  3.1704     a   4 - WEBLOS I     Pack\n",
       "5     2    2   1  Barthelmas, Aiden  3.4159     b       2 - WOLF     Pack\n",
       "6     2    3   9    Edmonds, Harvey  4.5462     c       2 - WOLF     Pack\n",
       "7     2    4   8   Donnarumma, Liam  5.7246     d      1 - TIGER     Pack\n",
       "8     3    1   3     Bracken, Basil  1.1704     a  5 - WEBLOS II     Pack\n",
       "9     3    2   2    Blackler, Caleb  5.4159     b   4 - WEBLOS I     Pack\n",
       "10    3    3   1  Barthelmas, Aiden  3.5462     c       2 - WOLF     Pack\n",
       "11    3    4   9    Edmonds, Harvey  3.7246     d       2 - WOLF     Pack"
      ]
     },
     "execution_count": 43,
     "metadata": {},
     "output_type": "execute_result"
    }
   ],
   "source": [
    "resultsdf.tail(100)"
   ]
  },
  {
   "cell_type": "code",
   "execution_count": 47,
   "metadata": {},
   "outputs": [
    {
     "name": "stdout",
     "output_type": "stream",
     "text": [
      "     Races Completed  Average Time\n",
      "car                               \n",
      "8                  1       2.54620\n",
      "1                  2       2.79315\n",
      "9                  2       3.07025\n",
      "2                  1       3.17040\n"
     ]
    }
   ],
   "source": [
    "# Get top cars\n",
    "standings = resultsdf.groupby('car') \\\n",
    "    .apply(lambda x: x.drop([x['time'].idxmax()]))\\\n",
    "    .rename_axis(['time','time'])\\\n",
    "    .groupby('car')\\\n",
    "    .agg({'car':'size', 'time':'mean'}) \\\n",
    "    .rename(columns={'car':'Races Completed','time':'Average Time'}) \\\n",
    "    .sort_values('Average Time', ascending=True)\n",
    "\n",
    "\n",
    "#standings = standings.sort_values('Average Time', ascending=True)\n",
    "print(standings.iloc[0:4])"
   ]
  },
  {
   "cell_type": "code",
   "execution_count": 36,
   "metadata": {},
   "outputs": [
    {
     "data": {
      "text/html": [
       "<div>\n",
       "<style scoped>\n",
       "    .dataframe tbody tr th:only-of-type {\n",
       "        vertical-align: middle;\n",
       "    }\n",
       "\n",
       "    .dataframe tbody tr th {\n",
       "        vertical-align: top;\n",
       "    }\n",
       "\n",
       "    .dataframe thead th {\n",
       "        text-align: right;\n",
       "    }\n",
       "</style>\n",
       "<table border=\"1\" class=\"dataframe\">\n",
       "  <thead>\n",
       "    <tr style=\"text-align: right;\">\n",
       "      <th></th>\n",
       "      <th>Races Completed</th>\n",
       "      <th>Average Time</th>\n",
       "    </tr>\n",
       "    <tr>\n",
       "      <th>car</th>\n",
       "      <th></th>\n",
       "      <th></th>\n",
       "    </tr>\n",
       "  </thead>\n",
       "  <tbody>\n",
       "    <tr>\n",
       "      <th>1</th>\n",
       "      <td>1</td>\n",
       "      <td>2.1704</td>\n",
       "    </tr>\n",
       "    <tr>\n",
       "      <th>9</th>\n",
       "      <td>1</td>\n",
       "      <td>2.4159</td>\n",
       "    </tr>\n",
       "    <tr>\n",
       "      <th>8</th>\n",
       "      <td>1</td>\n",
       "      <td>2.5462</td>\n",
       "    </tr>\n",
       "  </tbody>\n",
       "</table>\n",
       "</div>"
      ],
      "text/plain": [
       "     Races Completed  Average Time\n",
       "car                               \n",
       "1                  1        2.1704\n",
       "9                  1        2.4159\n",
       "8                  1        2.5462"
      ]
     },
     "execution_count": 36,
     "metadata": {},
     "output_type": "execute_result"
    }
   ],
   "source": [
    "standings.iloc[0:5]"
   ]
  },
  {
   "cell_type": "markdown",
   "metadata": {},
   "source": [
    "## Calculate leaders based on average time"
   ]
  },
  {
   "cell_type": "code",
   "execution_count": null,
   "metadata": {
    "collapsed": true
   },
   "outputs": [],
   "source": [
    "#avg = resultsdf.groupby('Car')['Time'].mean()\n",
    "#type(avg)"
   ]
  },
  {
   "cell_type": "code",
   "execution_count": 19,
   "metadata": {
    "collapsed": true
   },
   "outputs": [],
   "source": [
    "avg = resultsdf.groupby('car') \\\n",
    "       .agg({'car':'size', 'time':'mean'}) \\\n",
    "       .rename(columns={'car':'Races Completed','time':'Average Time'}) \\\n",
    "       .reset_index()\n",
    "#avg = avg.set_index('Car')"
   ]
  },
  {
   "cell_type": "code",
   "execution_count": 28,
   "metadata": {},
   "outputs": [
    {
     "data": {
      "text/html": [
       "<div>\n",
       "<style scoped>\n",
       "    .dataframe tbody tr th:only-of-type {\n",
       "        vertical-align: middle;\n",
       "    }\n",
       "\n",
       "    .dataframe tbody tr th {\n",
       "        vertical-align: top;\n",
       "    }\n",
       "\n",
       "    .dataframe thead th {\n",
       "        text-align: right;\n",
       "    }\n",
       "</style>\n",
       "<table border=\"1\" class=\"dataframe\">\n",
       "  <thead>\n",
       "    <tr style=\"text-align: right;\">\n",
       "      <th></th>\n",
       "      <th>car</th>\n",
       "      <th>Races Completed</th>\n",
       "      <th>Average Time</th>\n",
       "    </tr>\n",
       "  </thead>\n",
       "  <tbody>\n",
       "    <tr>\n",
       "      <th>0</th>\n",
       "      <td>1</td>\n",
       "      <td>1</td>\n",
       "      <td>2.1704</td>\n",
       "    </tr>\n",
       "    <tr>\n",
       "      <th>1</th>\n",
       "      <td>7</td>\n",
       "      <td>1</td>\n",
       "      <td>2.7246</td>\n",
       "    </tr>\n",
       "    <tr>\n",
       "      <th>2</th>\n",
       "      <td>8</td>\n",
       "      <td>1</td>\n",
       "      <td>2.5462</td>\n",
       "    </tr>\n",
       "    <tr>\n",
       "      <th>3</th>\n",
       "      <td>9</td>\n",
       "      <td>1</td>\n",
       "      <td>2.4159</td>\n",
       "    </tr>\n",
       "  </tbody>\n",
       "</table>\n",
       "</div>"
      ],
      "text/plain": [
       "  car  Races Completed  Average Time\n",
       "0   1                1        2.1704\n",
       "1   7                1        2.7246\n",
       "2   8                1        2.5462\n",
       "3   9                1        2.4159"
      ]
     },
     "execution_count": 28,
     "metadata": {},
     "output_type": "execute_result"
    }
   ],
   "source": [
    "avg.head()"
   ]
  },
  {
   "cell_type": "code",
   "execution_count": null,
   "metadata": {
    "collapsed": true
   },
   "outputs": [],
   "source": [
    "leaders = avg.sort_values(by='Average Time').reset_index()"
   ]
  },
  {
   "cell_type": "code",
   "execution_count": null,
   "metadata": {
    "collapsed": true
   },
   "outputs": [],
   "source": [
    "leaders.head()"
   ]
  },
  {
   "cell_type": "markdown",
   "metadata": {},
   "source": [
    "## Export Results"
   ]
  },
  {
   "cell_type": "code",
   "execution_count": null,
   "metadata": {
    "collapsed": true
   },
   "outputs": [],
   "source": [
    "with open('leaders.json','w') as lj:\n",
    "    leaders.iloc[0:10].to_json(lj)"
   ]
  },
  {
   "cell_type": "markdown",
   "metadata": {},
   "source": [
    "# Extra commands"
   ]
  },
  {
   "cell_type": "code",
   "execution_count": null,
   "metadata": {
    "collapsed": true
   },
   "outputs": [],
   "source": [
    "leaderdf.head()"
   ]
  },
  {
   "cell_type": "code",
   "execution_count": null,
   "metadata": {
    "collapsed": true
   },
   "outputs": [],
   "source": [
    "# Find Car by race and lane\n",
    "car = racedf.loc[1,'lane1']\n",
    "print (car)"
   ]
  },
  {
   "cell_type": "code",
   "execution_count": null,
   "metadata": {
    "collapsed": true
   },
   "outputs": [],
   "source": [
    "# delete race result or duplicate race result"
   ]
  },
  {
   "cell_type": "code",
   "execution_count": null,
   "metadata": {
    "collapsed": true
   },
   "outputs": [],
   "source": [
    "# write out rsults df and load from csv"
   ]
  },
  {
   "cell_type": "code",
   "execution_count": null,
   "metadata": {
    "collapsed": true
   },
   "outputs": [],
   "source": [
    "def serialwrite(code):\n",
    "    command = code +'\\r\\n'\n",
    "    #newcommand = command.encode('ascii')\n",
    "    #ser.write(newcommand)\n",
    "    #results = ser.readline()\n",
    "    #laneresults = results.decode().split()\n",
    "    #print(laneresults)\n",
    "    return results\n",
    "\n",
    "serialwrite('rg')"
   ]
  },
  {
   "cell_type": "code",
   "execution_count": null,
   "metadata": {
    "collapsed": true
   },
   "outputs": [],
   "source": [
    "currentrace['currentRace']['lane1']['time'] ='3.012'\n",
    "lastRace = currentrace['currentRace']\n",
    "type(lastRace)"
   ]
  }
 ],
 "metadata": {
  "kernelspec": {
   "display_name": "Python 3",
   "language": "python",
   "name": "python3"
  },
  "language_info": {
   "codemirror_mode": {
    "name": "ipython",
    "version": 3
   },
   "file_extension": ".py",
   "mimetype": "text/x-python",
   "name": "python",
   "nbconvert_exporter": "python",
   "pygments_lexer": "ipython3",
   "version": "3.5.2"
  }
 },
 "nbformat": 4,
 "nbformat_minor": 2
}
